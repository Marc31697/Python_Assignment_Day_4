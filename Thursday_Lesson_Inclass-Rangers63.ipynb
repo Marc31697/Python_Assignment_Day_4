{
 "cells": [
  {
   "cell_type": "markdown",
   "metadata": {},
   "source": [
    "# Object-Oriented-Programming (OOP)"
   ]
  },
  {
   "cell_type": "markdown",
   "metadata": {},
   "source": [
    "## Tasks Today:\n",
    "\n",
    "   \n",
    "\n",
    "1) <b>Creating a Class (Initializing/Declaring)</b> <br>\n",
    "2) <b>Using a Class (Instantiating)</b> <br>\n",
    " &nbsp;&nbsp;&nbsp;&nbsp; a) Creating One Instance <br>\n",
    " &nbsp;&nbsp;&nbsp;&nbsp; b) Creating Multiple Instances <br>\n",
    " &nbsp;&nbsp;&nbsp;&nbsp; c) In-Class Exercise #1 - Create a Class 'Car' and instantiate three different makes of cars <br>\n",
    "3) <b>The \\__init\\__() Method</b> <br>\n",
    " &nbsp;&nbsp;&nbsp;&nbsp; a) The 'self' Attribute <br>\n",
    "4) <b>Class Attributes</b> <br>\n",
    " &nbsp;&nbsp;&nbsp;&nbsp; a) Initializing Attributes <br>\n",
    " &nbsp;&nbsp;&nbsp;&nbsp; b) Setting an Attribute Outside of the \\__init\\__() Method <br>\n",
    " &nbsp;&nbsp;&nbsp;&nbsp; c) Setting Defaults for Attributes <br>\n",
    " &nbsp;&nbsp;&nbsp;&nbsp; d) Accessing Class Attributes <br>\n",
    " &nbsp;&nbsp;&nbsp;&nbsp; e) Changing Class Attributes <br>\n",
    " &nbsp;&nbsp;&nbsp;&nbsp; f) In-Class Exercise #2 - Add a color and wheels attribute to your 'Car' class <br>\n",
    "5) <b>Class Methods</b> <br>\n",
    " &nbsp;&nbsp;&nbsp;&nbsp; a) Creating <br>\n",
    " &nbsp;&nbsp;&nbsp;&nbsp; b) Calling <br>\n",
    " &nbsp;&nbsp;&nbsp;&nbsp; c) Modifying an Attribute's Value Through a Method <br>\n",
    " &nbsp;&nbsp;&nbsp;&nbsp; d) Incrementing an Attribute's Value Through a Method <br>\n",
    " &nbsp;&nbsp;&nbsp;&nbsp; e) In-Class Exercise #3 - Add a method that prints the cars color and wheel number, then call them <br>\n",
    "6) <b>Inheritance</b> <br>\n",
    " &nbsp;&nbsp;&nbsp;&nbsp; a) Syntax for Inheriting from a Parent Class <br>\n",
    " &nbsp;&nbsp;&nbsp;&nbsp; b) The \\__init\\__() Method for a Child Class (super()) <br>\n",
    " &nbsp;&nbsp;&nbsp;&nbsp; c) Defining Attributes and Methods for the Child Class <br>\n",
    " &nbsp;&nbsp;&nbsp;&nbsp; d) Method Overriding <br>\n",
    " &nbsp;&nbsp;&nbsp;&nbsp; e) In-Class Exercise #4 - Create a class 'Ford' that inherits from 'Car' class and initialize it as a Blue Ford Explorer with 4 wheels using the super() method <br>\n",
    "7) <b>Classes as Attributes</b> <br>\n",
    "8) <b>Exercises</b> <br>\n",
    " &nbsp;&nbsp;&nbsp;&nbsp; a) Exercise #1 - Turn the shopping cart program from yesterday into an object-oriented program <br>"
   ]
  },
  {
   "cell_type": "markdown",
   "metadata": {},
   "source": [
    "## Creating a Class (Initializing/Declaring)\n",
    "<p>When creating a class, function, or even a variable you are initializing that object. Initializing and Declaring occur at the same time in Python, whereas in lower level languages you have to declare an object before initializing it. This is the first step in the process of using a class.</p>"
   ]
  },
  {
   "cell_type": "code",
   "execution_count": 7,
   "metadata": {},
   "outputs": [],
   "source": [
    "class Car():\n",
    "    wheels = 4\n",
    "    color = 'blue'\n",
    "    bumper = 'small'"
   ]
  },
  {
   "cell_type": "markdown",
   "metadata": {},
   "source": [
    "## Using a Class (Instantiating)\n",
    "<p>The process of creating a class is called <i>Instantiating</i>. Each time you create a variable of that type of class, it is referred to as an <i>Instance</i> of that class. This is the second step in the process of using a class.</p>"
   ]
  },
  {
   "cell_type": "markdown",
   "metadata": {},
   "source": [
    "##### Creating One Instance"
   ]
  },
  {
   "cell_type": "code",
   "execution_count": 3,
   "metadata": {},
   "outputs": [
    {
     "name": "stdout",
     "output_type": "stream",
     "text": [
      "blue\n"
     ]
    }
   ],
   "source": [
    "ford = Car()\n",
    "\n",
    "print(ford.color)"
   ]
  },
  {
   "cell_type": "markdown",
   "metadata": {},
   "source": [
    "##### Creating Multiple Instances"
   ]
  },
  {
   "cell_type": "code",
   "execution_count": 8,
   "metadata": {},
   "outputs": [
    {
     "name": "stdout",
     "output_type": "stream",
     "text": [
      "<class 'str'>\n",
      "small\n"
     ]
    }
   ],
   "source": [
    "audi = Car()\n",
    "bmw = Car()\n",
    "vw = Car()\n",
    "\n",
    "print(type(audi.color))\n",
    "print(bmw.bumper)"
   ]
  },
  {
   "cell_type": "markdown",
   "metadata": {},
   "source": [
    "##### In-Class Exercise #1 - Create a Class 'Car' and Instantiate three different makes of cars"
   ]
  },
  {
   "cell_type": "code",
   "execution_count": 11,
   "metadata": {},
   "outputs": [
    {
     "name": "stdout",
     "output_type": "stream",
     "text": [
      "blue\n",
      "4\n",
      "leather\n"
     ]
    }
   ],
   "source": [
    "class Cars():\n",
    "    color = 'blue'\n",
    "    wheels = 4\n",
    "    seats = 'leather'\n",
    "\n",
    "audi = Cars()\n",
    "vw = Cars()\n",
    "bmw = Cars()\n",
    "\n",
    "print(audi.color)\n",
    "print(vw.wheels)\n",
    "print(bmw.seats)"
   ]
  },
  {
   "cell_type": "markdown",
   "metadata": {},
   "source": [
    "## The \\__init\\__() Method <br>\n",
    "<p>This method is used in almost every created class, and called only once upon the creation of the class instance. This method will initialize all variables needed for the object.</p>"
   ]
  },
  {
   "cell_type": "code",
   "execution_count": 12,
   "metadata": {},
   "outputs": [
    {
     "name": "stdout",
     "output_type": "stream",
     "text": [
      "grey\n",
      "gold\n"
     ]
    }
   ],
   "source": [
    "class Car():\n",
    "    engine = \"4.7L\"\n",
    "    \n",
    "    def __init__(self, wheels, color):\n",
    "        self.wheels = wheels\n",
    "        self.color = color\n",
    "\n",
    "\n",
    "audi = Car(4, 'grey')\n",
    "vw = Car(4, 'gold')\n",
    "\n",
    "print(audi.color)\n",
    "print(vw.color)"
   ]
  },
  {
   "cell_type": "markdown",
   "metadata": {},
   "source": [
    "##### The 'self' Attribute <br>\n",
    "<p>This attribute is required to keep track of specific instance's attributes. Without the self attribute, the program would not know how to reference or keep track of an instance's attributes.</p>"
   ]
  },
  {
   "cell_type": "code",
   "execution_count": null,
   "metadata": {},
   "outputs": [],
   "source": [
    "# see above"
   ]
  },
  {
   "cell_type": "markdown",
   "metadata": {},
   "source": [
    "## Class Attributes <br>\n",
    "<p>While variables are inside of a class, they are referred to as attributes and not variables. When someone says 'attribute' you know they're speaking about a class. Attributes can be initialized through the init method, or outside of it.</p>"
   ]
  },
  {
   "cell_type": "markdown",
   "metadata": {},
   "source": [
    "##### Initializing Attributes"
   ]
  },
  {
   "cell_type": "code",
   "execution_count": 17,
   "metadata": {},
   "outputs": [
    {
     "name": "stdout",
     "output_type": "stream",
     "text": [
      "blue\n",
      "True\n",
      "car\n"
     ]
    }
   ],
   "source": [
    "# see above\n",
    "class Toy():\n",
    "    KIND = \"car\" # doesn't change frequently\n",
    "    def __init__(self, color, size, remote_controlled):\n",
    "        self.color = color\n",
    "        self.size = size\n",
    "        self.remote_controlled = remote_controlled\n",
    "\n",
    "flippy_guy_car = Toy(\"red and also kind of green\", \"small\", True)\n",
    "hotwheels = Toy(\"blue\", \"tiny\", False)\n",
    "\n",
    "print(hotwheels.color)\n",
    "print(flippy_guy_car.remote_controlled)\n",
    "print(hotwheels.KIND)"
   ]
  },
  {
   "cell_type": "markdown",
   "metadata": {},
   "source": [
    "##### Accessing Class Attributes"
   ]
  },
  {
   "cell_type": "code",
   "execution_count": 15,
   "metadata": {
    "scrolled": true
   },
   "outputs": [
    {
     "data": {
      "text/plain": [
       "'blue'"
      ]
     },
     "execution_count": 15,
     "metadata": {},
     "output_type": "execute_result"
    }
   ],
   "source": [
    "# See Above\n",
    "hotwheels.color"
   ]
  },
  {
   "cell_type": "markdown",
   "metadata": {},
   "source": [
    "##### Setting Defaults for Attributes"
   ]
  },
  {
   "cell_type": "code",
   "execution_count": 18,
   "metadata": {},
   "outputs": [
    {
     "name": "stdout",
     "output_type": "stream",
     "text": [
      "8\n",
      "Blue\n"
     ]
    }
   ],
   "source": [
    "class Car():\n",
    "    ENGINE = \"4.7L\"\n",
    "    \n",
    "    def __init__(self, wheels):\n",
    "        self.wheels = wheels\n",
    "        self.color = \"Blue\" # default attribute\n",
    "    \n",
    "jeep = Car(8)\n",
    "honda = Car(4)\n",
    "print(jeep.wheels)\n",
    "print(jeep.color)"
   ]
  },
  {
   "cell_type": "markdown",
   "metadata": {},
   "source": [
    "##### Changing Class Attributes <br>\n",
    "<p>Keep in mind there are global class attributes and then there are attributes only available to each class instance which won't effect other classes.</p>"
   ]
  },
  {
   "cell_type": "code",
   "execution_count": 19,
   "metadata": {},
   "outputs": [
    {
     "name": "stdout",
     "output_type": "stream",
     "text": [
      "Before changes: Blue\n",
      "After changes: white\n"
     ]
    }
   ],
   "source": [
    "print(f'Before changes: {jeep.color}')\n",
    "jeep.color = 'white'\n",
    "print(f'After changes: {jeep.color}')"
   ]
  },
  {
   "cell_type": "code",
   "execution_count": null,
   "metadata": {},
   "outputs": [],
   "source": []
  },
  {
   "cell_type": "markdown",
   "metadata": {},
   "source": [
    "##### In-Class Exercise #2 - Add a doors and seats attribute to your 'Car' class then print out two different instances with different doors and seats"
   ]
  },
  {
   "cell_type": "code",
   "execution_count": 21,
   "metadata": {},
   "outputs": [
    {
     "name": "stdout",
     "output_type": "stream",
     "text": [
      "4\n",
      "nylon\n",
      "2\n"
     ]
    }
   ],
   "source": [
    "class Car():\n",
    "    \n",
    "    def __init__(self):\n",
    "        self.doors = 4\n",
    "        self.seats = 'leather'\n",
    "\n",
    "audi = Car()\n",
    "bmw = Car()\n",
    "bmw.seats = 'nylon'\n",
    "bmw.doors = 2\n",
    "\n",
    "print(audi.doors)\n",
    "print(bmw.seats)\n",
    "print(bmw.doors)"
   ]
  },
  {
   "cell_type": "markdown",
   "metadata": {},
   "source": [
    "## Class Methods <br>\n",
    "<p>While inside of a class, functions are referred to as 'methods'. If you hear someone mention methods, they're speaking about classes. Methods are essentially functions, but only callable on the instances of a class.</p>"
   ]
  },
  {
   "cell_type": "markdown",
   "metadata": {},
   "source": [
    "##### Creating"
   ]
  },
  {
   "cell_type": "code",
   "execution_count": 34,
   "metadata": {},
   "outputs": [],
   "source": [
    "class Inventory():\n",
    "    \"\"\"\n",
    "    The Inventory class will have capacity and items that we can place inside\n",
    "    \n",
    "    Attributes for the class:\n",
    "    - Capacity: expected to be a string or an integer\n",
    "    - Items: expected to be a list\n",
    "    \"\"\"\n",
    "    \n",
    "    def __init__(self, capacity, items):\n",
    "        self.capacity = capacity\n",
    "        self.items = items\n",
    "    \n",
    "    # Method that shows our inventory\n",
    "    def showInventory(self):\n",
    "        print(\"Here are your adventuring supplies: \")\n",
    "        for item in self.items:\n",
    "            print(item)\n",
    "    \n",
    "    # Show capacity of Inventory\n",
    "    def showCapacity(self):\n",
    "        print(f'Your carrying capacity is: {self.capacity}')\n",
    "    \n",
    "    # Add items(s) to your items list for your inventory\n",
    "    def addToInventory(self):\n",
    "        supplies = input(\"What dank loots have you gathered? \")\n",
    "        self.items.append(supplies)\n",
    "    \n",
    "    # Change the capacity of our Inventory\n",
    "    def changeInventoryCapacity(self, capacity):\n",
    "        self.capacity = capacity\n",
    "        \n",
    "    # Increase capacity of our inventory by 10 -- default\n",
    "    def increaseCapacity(self, changed_capacity = 10):\n",
    "        if self.capacity == isinstance(self.capacity, str):\n",
    "            print(\"You shall not pass.... that into your inventory\")\n",
    "        else:\n",
    "            self.capacity += changed_capacity"
   ]
  },
  {
   "cell_type": "markdown",
   "metadata": {},
   "source": [
    "##### Calling"
   ]
  },
  {
   "cell_type": "code",
   "execution_count": 35,
   "metadata": {},
   "outputs": [
    {
     "name": "stdout",
     "output_type": "stream",
     "text": [
      "Here are your adventuring supplies: \n",
      "ONWARD! YOUR QUEST IS YET TO BE COMPLETED!\n"
     ]
    }
   ],
   "source": [
    "# See Above\n",
    "# Create an instance of our Inventory class\n",
    "\n",
    "wizard_bag = Inventory(10, [])\n",
    "\n",
    "# Create a function to run the Inventory(wizard_bag) methods\n",
    "from IPython.display import clear_output\n",
    "def run():\n",
    "    while True:\n",
    "        response = input(\"What would you like to do? add/show/quit: \")\n",
    "        clear_output()\n",
    "        \n",
    "        if response.lower() == 'quit':\n",
    "            wizard_bag.showInventory()\n",
    "            print(\"ONWARD! YOUR QUEST IS YET TO BE COMPLETED!\")\n",
    "            break\n",
    "            \n",
    "        elif response.lower() == 'add':\n",
    "            wizard_bag.addToInventory()\n",
    "            clear_output()\n",
    "            \n",
    "        elif response.lower() == 'show':\n",
    "            wizard_bag.showInventory()\n",
    "\n",
    "run()"
   ]
  },
  {
   "cell_type": "markdown",
   "metadata": {},
   "source": [
    "##### Modifying an Attribute's Value Through a Method"
   ]
  },
  {
   "cell_type": "code",
   "execution_count": 36,
   "metadata": {},
   "outputs": [
    {
     "name": "stdout",
     "output_type": "stream",
     "text": [
      "Your carrying capacity is: 10\n",
      "Capacity AFTER the change..\n",
      "Your carrying capacity is: 15\n"
     ]
    }
   ],
   "source": [
    "# Show Capacity\n",
    "wizard_bag.showCapacity()\n",
    "print(f'Capacity AFTER the change..')\n",
    "wizard_bag.changeInventoryCapacity(15)\n",
    "wizard_bag.showCapacity()"
   ]
  },
  {
   "cell_type": "markdown",
   "metadata": {},
   "source": [
    "##### Incrementing an Attribute's Value Through a Method"
   ]
  },
  {
   "cell_type": "code",
   "execution_count": 37,
   "metadata": {},
   "outputs": [
    {
     "name": "stdout",
     "output_type": "stream",
     "text": [
      "Your carrying capacity is: 15\n",
      "Capacity AFTER the change..\n",
      "Your carrying capacity is: 25\n"
     ]
    }
   ],
   "source": [
    "wizard_bag.showCapacity()\n",
    "print(f'Capacity AFTER the change..')\n",
    "wizard_bag.increaseCapacity()\n",
    "wizard_bag.showCapacity()"
   ]
  },
  {
   "cell_type": "markdown",
   "metadata": {},
   "source": [
    "##### In-Class Exercise #3 - Add a method that takes in three parameters of year, doors and seats and prints out a formatted print statement with make, model, year, seats, and doors"
   ]
  },
  {
   "cell_type": "code",
   "execution_count": 51,
   "metadata": {},
   "outputs": [],
   "source": [
    "# Create class with 2 paramters inside of the __init__ which are make and model\n",
    "\n",
    "# Inside of the Car class create a method that has 4 parameter in total (self,year,door,seats)\n",
    "\n",
    "# Output: This car is from 2019 and is a Ford Expolorer and has 4 doors and 5 seats\n",
    "from IPython.display import clear_output\n",
    "class Car():\n",
    "\n",
    "    def __init__(self, make, model):\n",
    "        self.make = make\n",
    "        self.model = model\n",
    "    \n",
    "    def vehicle(self, year, door, seats):\n",
    "        self.year = year\n",
    "        self.door = door\n",
    "        self.seats = seats\n",
    "        \n",
    "    def showVehicle(self):\n",
    "        print(f'This car is from {self.year} and is a {self.make.title()} {self.model.title()} and has {self.door} doors and {self.seats} seats')"
   ]
  },
  {
   "cell_type": "code",
   "execution_count": 52,
   "metadata": {},
   "outputs": [
    {
     "name": "stdout",
     "output_type": "stream",
     "text": [
      "This car is from 2010 and is a Audi A4 and has 4 doors and 5 seats\n"
     ]
    }
   ],
   "source": [
    "audi = Car('audi', 'a4')\n",
    "def run():\n",
    "    \n",
    "    response = input(\"Please enter the year of your vehicle: \")\n",
    "    audi.year = 2010\n",
    "    clear_output()\n",
    "    \n",
    "    response = input(\"Please enter the number of doors in your vehicle: \")\n",
    "    audi.door = 4\n",
    "    clear_output()\n",
    "    \n",
    "    response = input(\"Please enter the number of seats in your vehicle: \")\n",
    "    audi.seats = 5\n",
    "    clear_output()\n",
    "    \n",
    "    audi.showVehicle()\n",
    "\n",
    "run()\n",
    "    "
   ]
  },
  {
   "cell_type": "markdown",
   "metadata": {},
   "source": [
    "## Inheritance <br>\n",
    "<p>You can create a child-parent relationship between two classes by using inheritance. What this allows you to do is have overriding methods, but also inherit traits from the parent class. Think of it as an actual parent and child, the child will inherit the parent's genes, as will the classes in OOP</p>"
   ]
  },
  {
   "cell_type": "markdown",
   "metadata": {},
   "source": [
    "##### Syntax for Inheriting from a Parent Class"
   ]
  },
  {
   "cell_type": "code",
   "execution_count": 13,
   "metadata": {},
   "outputs": [
    {
     "name": "stdout",
     "output_type": "stream",
     "text": [
      "Rooooo\n",
      "Make Some Generic Animal Sound\n",
      "9.8\n"
     ]
    }
   ],
   "source": [
    "# Creation of our Parent Class - Animal\n",
    "class Animal():\n",
    "    ACCELERATION = 9.8 # Constant\n",
    "    \n",
    "    def __init__(self, name, species, legs=4):\n",
    "        self.name = name\n",
    "        self.species = species\n",
    "        self.legs = legs\n",
    "        \n",
    "    # Generic Parent(Animal) Method -- No Override\n",
    "    def makeSound(Self):\n",
    "        print(\"Make Some Generic Animal Sound\")\n",
    "        \n",
    "class Dog(Animal):\n",
    "    SPEED = 15\n",
    "    \n",
    "    def printInfo(self):\n",
    "        print(f'The Dog can run {self.SPEED}mph and can accelerate at {self.ACCELERATION}')\n",
    "\n",
    "class Mut(Dog):\n",
    "    COLOR = \"light brownish\"\n",
    "    # Defining methods and attributes for child class\n",
    "    # Overriding of the Animal Class_init_method\n",
    "    def __init__(self, name, species, eye_color, legs = 4):\n",
    "        Dog.__init__(self, name, species, legs)\n",
    "        self.eye_color = eye_color\n",
    "    \n",
    "    # Override the makeSound method (coming from the Animal class)\n",
    "    def makeSound(self):\n",
    "        noise = \"Rooooo\"\n",
    "        return noise\n",
    "    \n",
    "lassie = Dog(\"Lassie\",\"Dog\")\n",
    "basic_animal = Animal('Generic Animal Name', 'Generic Animal Species')\n",
    "eyo = Mut('Eyo', 'Mut', 'light brownish')\n",
    "\n",
    "print(eyo.makeSound())\n",
    "basic_animal.makeSound()\n",
    "print(eyo.ACCELERATION)"
   ]
  },
  {
   "cell_type": "markdown",
   "metadata": {},
   "source": [
    "##### The \\__init\\__() Method for a Child Class - super()"
   ]
  },
  {
   "cell_type": "code",
   "execution_count": 16,
   "metadata": {
    "scrolled": true
   },
   "outputs": [
    {
     "name": "stdout",
     "output_type": "stream",
     "text": [
      "Make Some Generic Animal Sound\n",
      "AWOOOO\n",
      "Make Some Generic Animal Sound\n",
      "9.8\n"
     ]
    }
   ],
   "source": [
    "class Mut(Dog):\n",
    "    COLOR = \"black and brown\"\n",
    "    \n",
    "    # Overriding the Animal Class __init__ method\n",
    "    def __init__(self, name, species, eye_color, legs = 4):\n",
    "        super().__init__(name, species, legs)\n",
    "        self.eye_color = eye_color\n",
    "    # method overriding\n",
    "    # Overide makeSound method again that comes from Animal class\n",
    "    def makeSound(self):\n",
    "        noise = \"AWOOOO\"\n",
    "        return noise\n",
    "    \n",
    "lassie = Dog('Lassie', 'Dog')\n",
    "basic_animal = Animal('Todd', 'Wildebeest')\n",
    "buster = Mut('Buster', 'Mut', 'black')\n",
    "\n",
    "lassie.makeSound()\n",
    "print(buster.makeSound())\n",
    "basic_animal.makeSound()\n",
    "print(buster.ACCELERATION)"
   ]
  },
  {
   "cell_type": "markdown",
   "metadata": {},
   "source": [
    "##### Defining Attributes and Methods for the Child Class"
   ]
  },
  {
   "cell_type": "code",
   "execution_count": null,
   "metadata": {},
   "outputs": [],
   "source": [
    "# See Above"
   ]
  },
  {
   "cell_type": "markdown",
   "metadata": {},
   "source": [
    "##### Method Overriding"
   ]
  },
  {
   "cell_type": "code",
   "execution_count": null,
   "metadata": {},
   "outputs": [],
   "source": [
    "# See Above"
   ]
  },
  {
   "cell_type": "markdown",
   "metadata": {},
   "source": [
    "## Classes as Attributes <br>\n",
    "<p>Classes can also be used as attributes within another class. This is useful in situations where you need to keep variables locally stored, instead of globally stored.</p>"
   ]
  },
  {
   "cell_type": "code",
   "execution_count": 21,
   "metadata": {},
   "outputs": [
    {
     "name": "stdout",
     "output_type": "stream",
     "text": [
      "20\n",
      "2008 Toyota Prius 20\n"
     ]
    }
   ],
   "source": [
    "class Battery():\n",
    "    VOLTS = 7.8\n",
    "    \n",
    "    def __init__(self, cells):\n",
    "        self.cells = cells\n",
    "        \n",
    "class Car():\n",
    "    def __init__(self, year, make, model, battery):\n",
    "        self.year = year\n",
    "        self.make = make\n",
    "        self.model = model\n",
    "        self.battery = battery\n",
    "    \n",
    "    def printInfo(self):\n",
    "        return f'{self.year} {self.make} {self.model} {self.battery.cells}'\n",
    "    \n",
    "battery = Battery(20)\n",
    "\n",
    "prius = Car(2008, 'Toyota', 'Prius', battery)\n",
    "\n",
    "print(prius.battery.cells)\n",
    "print(prius.printInfo())"
   ]
  },
  {
   "cell_type": "markdown",
   "metadata": {},
   "source": [
    "# Exercises"
   ]
  },
  {
   "cell_type": "markdown",
   "metadata": {},
   "source": [
    "### Exercise 1 - Turn the shopping cart program from yesterday into an object-oriented program\n",
    "\n",
    "The comments in the cell below are there as a guide for thinking about the problem. However, if you feel a different way is best for you and your own thought process, please do what feels best for you by all means."
   ]
  },
  {
   "cell_type": "code",
   "execution_count": 90,
   "metadata": {},
   "outputs": [],
   "source": [
    "# Create a class called cart that retains items and has methods to add, remove, and show\n",
    "\n",
    "class Cart():\n",
    "    \"\"\"\n",
    "    The Cart will have space for an infinite amount of items currently\n",
    "    \n",
    "    Attributes for the class:\n",
    "    - Items: expected to be a list\n",
    "    \"\"\"\n",
    "    \n",
    "    def __init__(self, items):\n",
    "        self.items = items\n",
    "    \n",
    "    # Method that shows our Cart\n",
    "    def showCart(self):\n",
    "        if self.items:\n",
    "            print(\"Here are the items in your cart: \")\n",
    "            for item in self.items:\n",
    "                print(item)\n",
    "        else:\n",
    "            print(\"The cart is empty!\")\n",
    "    \n",
    "    # Add items(s) to your cart\n",
    "    def addToCart(self):\n",
    "        supplies = input(\"What would you like to add to the cart?: \")\n",
    "        self.items.append(supplies.title())\n",
    "    \n",
    "    # Remove item(s) from your cart\n",
    "    def removeFromCart(self):\n",
    "        if self.items:\n",
    "            print(\"Here are the items in your cart: \")\n",
    "            for item in self.items:\n",
    "                print(item.title())\n",
    "            supplies = input(\"What would you like to remove from the cart?: \")\n",
    "        \n",
    "            if supplies.title() in self.items:\n",
    "                self.items.remove(supplies.title())\n",
    "            \n",
    "            else:\n",
    "                print(f'{supplies} is not in the shopping cart')\n",
    "        else:\n",
    "            print(\"The cart is empty!\")\n",
    "\n",
    "        "
   ]
  },
  {
   "cell_type": "code",
   "execution_count": 91,
   "metadata": {
    "scrolled": true
   },
   "outputs": [
    {
     "name": "stdout",
     "output_type": "stream",
     "text": [
      "The cart is empty!\n"
     ]
    }
   ],
   "source": [
    "shopping = Cart([])\n",
    "\n",
    "# Function to run the shopping cart\n",
    "from IPython.display import clear_output\n",
    "def run():\n",
    "    while True:\n",
    "        response = input(\"What would you like to do? Add/Show/Remove/Quit: \")\n",
    "        \n",
    "        if response.lower() == 'quit':\n",
    "            clear_output()\n",
    "            shopping.showCart()\n",
    "            break\n",
    "            \n",
    "        elif response.lower() == 'add':\n",
    "            clear_output()\n",
    "            shopping.addToCart()\n",
    "            \n",
    "        elif response.lower() == 'remove':\n",
    "            clear_output()\n",
    "            shopping.removeFromCart()\n",
    "            \n",
    "        elif response.lower() == 'show':\n",
    "            clear_output()\n",
    "            shopping.showCart()\n",
    "\n",
    "run()"
   ]
  },
  {
   "cell_type": "markdown",
   "metadata": {},
   "source": [
    "### Exercise 2 - Write a Python class which has two methods get_String and print_String. get_String accept a string from the user and print_String print the string in upper case"
   ]
  },
  {
   "cell_type": "code",
   "execution_count": 52,
   "metadata": {},
   "outputs": [],
   "source": [
    "from IPython.display import clear_output\n",
    "class Words():\n",
    "    \n",
    "    def __init__(self, response=''):\n",
    "        self.response = response\n",
    "        \n",
    "    def getString(self):\n",
    "        clear_output()\n",
    "        self.response = input(\"Enter something here: \")\n",
    "        \n",
    "    def printString(self):\n",
    "        clear_output()\n",
    "        print(f'Here it is: {self.response}')\n",
    "\n",
    "# new.getString()\n",
    "# print(new.printString())"
   ]
  },
  {
   "cell_type": "code",
   "execution_count": 53,
   "metadata": {},
   "outputs": [
    {
     "name": "stdout",
     "output_type": "stream",
     "text": [
      "Here it is: This is a string that I am creating\n",
      "What would you like to do next? Create/Print/Quit: quit\n"
     ]
    }
   ],
   "source": [
    "def run():\n",
    "    new = Words()\n",
    "    \n",
    "    while True:\n",
    "        next = input(\"What would you like to do next? Create/Print/Quit: \")\n",
    "        if next.lower() == 'create':\n",
    "            new.getString()\n",
    "        elif next.lower() == 'print':\n",
    "            new.printString()\n",
    "        elif next.lower() == 'quit':\n",
    "            break\n",
    "run()"
   ]
  }
 ],
 "metadata": {
  "kernelspec": {
   "display_name": "Python 3",
   "language": "python",
   "name": "python3"
  },
  "language_info": {
   "codemirror_mode": {
    "name": "ipython",
    "version": 3
   },
   "file_extension": ".py",
   "mimetype": "text/x-python",
   "name": "python",
   "nbconvert_exporter": "python",
   "pygments_lexer": "ipython3",
   "version": "3.8.8"
  }
 },
 "nbformat": 4,
 "nbformat_minor": 2
}
